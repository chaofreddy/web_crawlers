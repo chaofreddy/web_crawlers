{
 "cells": [
  {
   "cell_type": "code",
   "execution_count": 1,
   "id": "b77e5964",
   "metadata": {
    "ExecuteTime": {
     "end_time": "2022-06-21T15:34:56.839597Z",
     "start_time": "2022-06-21T15:34:55.232694Z"
    }
   },
   "outputs": [],
   "source": [
    "import requests\n",
    "import pandas as pd\n",
    "from requests_html import HTMLSession\n",
    "from bs4 import BeautifulSoup"
   ]
  },
  {
   "cell_type": "code",
   "execution_count": 2,
   "id": "393269c6",
   "metadata": {
    "ExecuteTime": {
     "end_time": "2022-06-21T15:35:00.354110Z",
     "start_time": "2022-06-21T15:35:00.349311Z"
    }
   },
   "outputs": [],
   "source": [
    "url = 'https://www.amazon.com/YI-Security-Surveillance-Monitor-Android/product-reviews/B01CW4AR9K/ref=cm_cr_dp_d_show_all_btm?ie=UTF8&reviewerType=all_reviews'"
   ]
  },
  {
   "cell_type": "code",
   "execution_count": 3,
   "id": "72f51a41",
   "metadata": {
    "ExecuteTime": {
     "end_time": "2022-06-21T15:35:02.809547Z",
     "start_time": "2022-06-21T15:35:02.804638Z"
    }
   },
   "outputs": [],
   "source": [
    "headers = {'accept': 'text/html,application/xhtml+xml,application/xml;q=0.9,image/avif,image/webp,image/apng,*/*;q=0.8,application/signed-exchange;v=b3;q=0.9',\n",
    "'accept-encoding': 'gzip, deflate, br',\n",
    "'accept-language': 'zh-CN,zh;q=0.9,zh-TW;q=0.8,en;q=0.7',\n",
    "'cache-control': 'max-age=0',\n",
    "'cookie': 'ubid-main=135-0840353-2570809; aws-target-data=%7B%22support%22%3A%221%22%7D; s_vnum=2052667290685%26vn%3D5; s_nr=1634677662347-Repeat; s_dslv=1634677662350; lc-main=en_US; av-timezone=America/Indianapolis; session-id-apay=135-5392037-2904843; session-id=139-9480409-9692346; x-main=\"sy@8uyou2t4inaXY49nhNjoGr0D4CExdcvwJW6XZnoC7O6daAik2v9GYhsnNZpDY\"; at-main=Atza|IwEBIJ53tQ3lpKSNMCSiTFlKYk4S9WjANsUHINlHJV8EpVyM4DeFdM3_mxYSxceZ1SX-s7EOMWKub0Qp8_HS54oNeE4jEVV1hhB1xZGmC1BhSxYHOeVRMrTHrPyorGWsEBvARPL2EjMtD7XDoFBxD2K5eZnpc0ibnJKPvBOQ0wAguHRazxv71d5jgyu3RehghQQvvXM0IZ6Pm0KBEkJKdZ_XwFd8; sess-at-main=\"UWqIv6ljGPR/juupbK+yIGz9DIg8KciVmutqKS4BY5Y=\"; sst-main=Sst1|PQGRUPnojBAgIvJ8L6l4QiLECWE4rzcovkj41E4sbTgz4e7-YzVTk_9vXnWKAs4tOpERDRopJhZdCnQzquVivL7_wjBiwkFjetvSKC9J6qC2J_sryb0QKZ2tokwIrAMgg84OmpEnHmnM5-FhGRPWVvCAD8iEPWcgbS4sCr0ydTsa6O7iK6jZWhaHqxiZyj3BySLs4NOq38fivhSbZxidcyOotf087jKzdH8YLzZ9ZLLHWcT2dHL5HtosZLaI7va8X7G8UkIpvT3AtXKQNHlTHJ6Airx4z6joJNXZkhauhrj--pg; session-id-time=2082787201l; i18n-prefs=USD; csd-key=eyJ3YXNtVGVzdGVkIjp0cnVlLCJ3YXNtQ29tcGF0aWJsZSI6dHJ1ZSwid2ViQ3J5cHRvVGVzdGVkIjpmYWxzZSwidiI6MSwia2lkIjoiZmU4ZTY4Iiwia2V5IjoiaW45ODhtZHpqb1QvSU81eGJmSTlCS3kvYmI2WVpwZTYvKzFQQWUvWDV2Z0pRRU5oOUdTMlp1TmIzcnR1T0NqVm1PMWZFZzlIM2V1NU9lRkRXZmxKdUcrRFh2M1krRVpGWVpZU25MZXdCT1JGVWZSci9pMTRIU0dDc0ZTcllsNkp2cnBoUkF1YVlEVnlXYStoMCs0U0t5a2lWbmU3dEJXWnMyWUliR001cVR0YTdKMm8yN3htN1J2NFFQbjZkUmJuRXBVaWdWeE1ZL2U2MGYrMlJmN2xuQXZOaERkbzhsLzhPUGFnSVMzRlkydmNHSEVCSUt0eVExdm96bzFBcFFXMzRVa0dHWitGZmQvNkUzWEs4TFZqbUdXWlVxZGZhTjRVcDNBNjdIc3BSTks0R200WlR0SXFJNGI0RHJjbzlycEhrcVdrd1ZreStMaUVENC9mQWRYMFBBPT0ifQ==; AMCV_7742037254C95E840A4C98A6%40AdobeOrg=1585540135%7CMCIDTS%7C19148%7CMCMID%7C65919558151496498674007512399047413620%7CMCAAMLH-1654913751%7C7%7CMCAAMB-1654913751%7CRKhpRz8krg2tLO6pguXWp5olkAcUniQYPHaMWWgdJ3xzPWQmdj0y%7CMCOPTOUT-1654316151s%7CNONE%7CMCAID%7C307DA93EDB9A9996-400007DAC35CCF07%7CvVersion%7C4.4.0; regStatus=pre-register; aws-target-visitor-id=1654308952437-271514.34_0; skin=noskin; csm-hit=tb:8XFB8MH4T4T2ZP2CB39C+s-65EZ17NPBD0801EMDFFS|1655083009569&t:1655083009569&adb:adblk_yes; session-token=Rasu4VZMZg+T2WlCOG3MuxHS3myOaU7aNRvNBJSqTYKigI6dSIDF2aARe3kZte8kELSVaegbyFUuK4wv/LwpR/GrWlK18qKSo3WqbAOnUE8f9rYRs4ngWD3xdY6YjAu7EJPsad/tNxETzsU9c2VJhVS7fYjyzUqOSOYxs12Vh8kXq8jxL0Bd4Uu7wEJPM+UIwzT2qxUlyjJbmTLNI16WX8sUMz/9tUh0xXBjXMOiUrV+2Pt/yJ0QLdMR3M1oJ3zMbIPcJUZ1dWYGNwn2nShxPw==',\n",
    "'device-memory': '8',\n",
    "'downlink': '6.45',\n",
    "'dpr': '2',\n",
    "'ect': '4g',\n",
    "'referer': 'https://www.amazon.com/ref=nav_logo',\n",
    "'rtt': '50',\n",
    "'sec-ch-device-memory': '8',\n",
    "'sec-ch-dpr': '2',\n",
    "'sec-ch-ua': '\" Not A;Brand\";v=\"99\", \"Chromium\";v=\"102\", \"Google Chrome\";v=\"102\"',\n",
    "'sec-ch-ua-mobile': '?0',\n",
    "'sec-ch-ua-platform': '\"macOS\"',\n",
    "'sec-ch-viewport-width': '1440',\n",
    "'sec-fetch-dest': 'document',\n",
    "'sec-fetch-mode': 'navigate',\n",
    "'sec-fetch-site': 'same-origin',\n",
    "'sec-fetch-user': '?1',\n",
    "'upgrade-insecure-requests': '1',\n",
    "'user-agent': 'Mozilla/5.0 (Macintosh; Intel Mac OS X 10_15_7) AppleWebKit/537.36 (KHTML, like Gecko) Chrome/102.0.5005.61 Safari/537.36'\n",
    "}"
   ]
  },
  {
   "cell_type": "code",
   "execution_count": 4,
   "id": "9cc5e26a",
   "metadata": {
    "ExecuteTime": {
     "end_time": "2022-06-21T15:35:04.717814Z",
     "start_time": "2022-06-21T15:35:04.038059Z"
    }
   },
   "outputs": [],
   "source": [
    "r = requests.get(url, headers=headers)"
   ]
  },
  {
   "cell_type": "code",
   "execution_count": 5,
   "id": "837afa65",
   "metadata": {
    "ExecuteTime": {
     "end_time": "2022-06-21T15:35:04.933851Z",
     "start_time": "2022-06-21T15:35:04.921571Z"
    }
   },
   "outputs": [
    {
     "data": {
      "text/plain": [
       "<Response [200]>"
      ]
     },
     "execution_count": 5,
     "metadata": {},
     "output_type": "execute_result"
    }
   ],
   "source": [
    "r"
   ]
  },
  {
   "cell_type": "code",
   "execution_count": 6,
   "id": "a8763b87",
   "metadata": {
    "ExecuteTime": {
     "end_time": "2022-06-21T15:35:08.061085Z",
     "start_time": "2022-06-21T15:35:08.054894Z"
    }
   },
   "outputs": [],
   "source": [
    "def get_soup(url):\n",
    "    r = requests.get(url, headers=headers)\n",
    "    params={'url': url, 'wait': 2}\n",
    "    soup = BeautifulSoup(r.text, 'html.parser')\n",
    "    return soup"
   ]
  },
  {
   "cell_type": "code",
   "execution_count": 7,
   "id": "b52b81d2",
   "metadata": {
    "ExecuteTime": {
     "end_time": "2022-06-21T15:35:09.143867Z",
     "start_time": "2022-06-21T15:35:09.139586Z"
    }
   },
   "outputs": [],
   "source": [
    "reviewlist = []"
   ]
  },
  {
   "cell_type": "code",
   "execution_count": 8,
   "id": "3e83d7a6",
   "metadata": {
    "ExecuteTime": {
     "end_time": "2022-06-21T15:39:50.646873Z",
     "start_time": "2022-06-21T15:39:50.625618Z"
    }
   },
   "outputs": [],
   "source": [
    "def get_reviews(soup):\n",
    "    reviews = soup.find_all('div', {'data-hook': 'review'})\n",
    "    try:\n",
    "        for item in reviews:\n",
    "            review = {\n",
    "            'product': soup.title.text.replace('Amazon.com:Customer reviews: ', '').strip(), \n",
    "            'date': item.find('span', {'data-hook': 'review-date'}).text.strip(),\n",
    "            'title': item.find('a', {'data-hook': 'review-title'}).text.strip(),\n",
    "            'rating':  float(item.find('i', {'data-hook': 'review-star-rating'}).text.replace('out of 5 stars', '').strip()),\n",
    "            'body': item.find('span', {'data-hook': 'review-body'}).text.strip(),\n",
    "            }\n",
    "            reviewlist.append(review)\n",
    "    except:\n",
    "        pass"
   ]
  },
  {
   "cell_type": "code",
   "execution_count": 9,
   "id": "bd7b813e",
   "metadata": {
    "ExecuteTime": {
     "end_time": "2022-06-21T15:40:45.075104Z",
     "start_time": "2022-06-21T15:40:31.759289Z"
    }
   },
   "outputs": [
    {
     "name": "stdout",
     "output_type": "stream",
     "text": [
      "Getting page: 1\n",
      "10\n",
      "Getting page: 2\n",
      "20\n",
      "Getting page: 3\n",
      "30\n",
      "Getting page: 4\n",
      "40\n",
      "Getting page: 5\n",
      "50\n",
      "Getting page: 6\n",
      "60\n",
      "Getting page: 7\n",
      "70\n",
      "Getting page: 8\n",
      "80\n",
      "Getting page: 9\n",
      "90\n",
      "Getting page: 10\n",
      "100\n",
      "Getting page: 11\n",
      "110\n",
      "Getting page: 12\n",
      "120\n",
      "Getting page: 13\n",
      "130\n",
      "Getting page: 14\n",
      "140\n",
      "Getting page: 15\n",
      "150\n",
      "Getting page: 16\n",
      "160\n",
      "Getting page: 17\n",
      "170\n",
      "Getting page: 18\n",
      "180\n",
      "Getting page: 19\n",
      "190\n"
     ]
    }
   ],
   "source": [
    "for x in range(1,20):\n",
    "    soup = get_soup(f'https://www.amazon.com/YI-Security-Surveillance-Monitor-Android/product-reviews/B01CW4AR9K/ref=cm_cr_dp_d_show_all_btm?ie=UTF8&reviewerType=all_reviews&pageNumber={x}')\n",
    "    print(f'Getting page: {x}')\n",
    "    get_reviews(soup)\n",
    "    print(len(reviewlist))"
   ]
  },
  {
   "cell_type": "code",
   "execution_count": 55,
   "id": "73208874",
   "metadata": {
    "ExecuteTime": {
     "end_time": "2022-06-21T15:33:37.270662Z",
     "start_time": "2022-06-21T15:33:37.255231Z"
    }
   },
   "outputs": [
    {
     "name": "stdout",
     "output_type": "stream",
     "text": [
      "Fin.\n"
     ]
    }
   ],
   "source": [
    "df = pd.DataFrame(reviewlist)\n",
    "df.to_csv(r'sony-headphones.csv', index=False)\n",
    "print('Fin.')"
   ]
  }
 ],
 "metadata": {
  "kernelspec": {
   "display_name": "Python 3",
   "language": "python",
   "name": "python3"
  },
  "language_info": {
   "codemirror_mode": {
    "name": "ipython",
    "version": 3
   },
   "file_extension": ".py",
   "mimetype": "text/x-python",
   "name": "python",
   "nbconvert_exporter": "python",
   "pygments_lexer": "ipython3",
   "version": "3.8.13"
  },
  "toc": {
   "base_numbering": 1,
   "nav_menu": {},
   "number_sections": true,
   "sideBar": true,
   "skip_h1_title": false,
   "title_cell": "Table of Contents",
   "title_sidebar": "Contents",
   "toc_cell": false,
   "toc_position": {},
   "toc_section_display": true,
   "toc_window_display": false
  },
  "varInspector": {
   "cols": {
    "lenName": 16,
    "lenType": 16,
    "lenVar": 40
   },
   "kernels_config": {
    "python": {
     "delete_cmd_postfix": "",
     "delete_cmd_prefix": "del ",
     "library": "var_list.py",
     "varRefreshCmd": "print(var_dic_list())"
    },
    "r": {
     "delete_cmd_postfix": ") ",
     "delete_cmd_prefix": "rm(",
     "library": "var_list.r",
     "varRefreshCmd": "cat(var_dic_list()) "
    }
   },
   "types_to_exclude": [
    "module",
    "function",
    "builtin_function_or_method",
    "instance",
    "_Feature"
   ],
   "window_display": false
  }
 },
 "nbformat": 4,
 "nbformat_minor": 5
}
